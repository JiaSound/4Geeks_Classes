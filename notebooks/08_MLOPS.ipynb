{
 "cells": [
  {
   "cell_type": "markdown",
   "metadata": {},
   "source": [
    "# Lesson 8: Machine Learning Ops"
   ]
  },
  {
   "cell_type": "code",
   "execution_count": 2,
   "metadata": {},
   "outputs": [],
   "source": [
    "# The Shell of an OS, recognizes Two entities\n",
    "# 1- The archive (file), 2- The directory (folder)\n",
    "# They can be visible or hidden\n",
    "# The commands in a shell usually have a component named \"Command\"\n",
    "# and the options that are notaed with a \"-\"\n",
    "# for example -p, -o, or with a \"--\" but that is for the full name\n",
    "# Command \"echo\" is print\n",
    "# \"cat\" opens and prints the contents of a file\n",
    "# \"tail\" is the last lines of a file (-# defines the number of last lines)\n",
    "# \"head\" works the same way except with the first few lines\n",
    "# \"touch\" creates a blank file\n",
    "# \"mkdir\" creates a new folder\n",
    "# \">\" replaces contents of a file - will add anything returned from the previous bash code\n",
    "# \">>\" adds a new line of contents to a file\n",
    "# both also create new file if it doesn't already exist\n",
    "# mkdir -p my_docs/{word,excel,powerpoint} \n",
    "# - creates mydocs folder if it doesn't exist already\n",
    "# {} 2 or more folders inside of the stated folder path\n",
    "# cp file or folder name SPACE file/path/new/folder/location\n",
    "# cd - change directory\n",
    "# \".\" = where we are and \"..\" = one level up\n",
    "# ln creates an alias (assigns a variable to the file/folder)\n",
    "# grep captures text patterns in a file\n",
    "# grep \"text\" my_modules.txt\n",
    "# \"find\" finds the folders and files with the search variables\n",
    "# find . -type f -name \"*.t\n",
    "# touch new_script.sh - create new script\n",
    "# sh scriptname.sh\n"
   ]
  },
  {
   "cell_type": "code",
   "execution_count": null,
   "metadata": {},
   "outputs": [],
   "source": []
  }
 ],
 "metadata": {
  "kernelspec": {
   "display_name": ".venv",
   "language": "python",
   "name": "python3"
  },
  "language_info": {
   "codemirror_mode": {
    "name": "ipython",
    "version": 3
   },
   "file_extension": ".py",
   "mimetype": "text/x-python",
   "name": "python",
   "nbconvert_exporter": "python",
   "pygments_lexer": "ipython3",
   "version": "3.12.1"
  }
 },
 "nbformat": 4,
 "nbformat_minor": 2
}
