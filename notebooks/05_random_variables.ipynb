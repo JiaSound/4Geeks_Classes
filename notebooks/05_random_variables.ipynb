{
 "cells": [
  {
   "cell_type": "code",
   "execution_count": 2,
   "metadata": {},
   "outputs": [],
   "source": [
    "import numpy as np \n",
    "import matplotlib.pyplot as plt\n",
    "import pandas as pd \n",
    "import random\n",
    "from scipy.stats import binom"
   ]
  },
  {
   "cell_type": "code",
   "execution_count": 16,
   "metadata": {},
   "outputs": [
    {
     "data": {
      "text/plain": [
       "['red',\n",
       " 'red',\n",
       " 'red',\n",
       " 'red',\n",
       " 'red',\n",
       " 'red',\n",
       " 'red',\n",
       " 'red',\n",
       " 'red',\n",
       " 'red',\n",
       " 'red',\n",
       " 'red',\n",
       " 'red',\n",
       " 'red',\n",
       " 'red',\n",
       " 'red',\n",
       " 'red',\n",
       " 'red',\n",
       " 'black',\n",
       " 'black',\n",
       " 'black',\n",
       " 'black',\n",
       " 'black',\n",
       " 'black',\n",
       " 'black',\n",
       " 'black',\n",
       " 'black',\n",
       " 'black',\n",
       " 'black',\n",
       " 'black',\n",
       " 'black',\n",
       " 'black',\n",
       " 'black',\n",
       " 'black',\n",
       " 'black',\n",
       " 'black',\n",
       " 'green',\n",
       " 'green']"
      ]
     },
     "execution_count": 16,
     "metadata": {},
     "output_type": "execute_result"
    }
   ],
   "source": [
    "# There is a roulette at a casino. it has 18 red spaces, and 18 black spaces, and 2 green\n",
    "# After spinning the wheel if it his red, the person betting wins $1, if it hits black the person betting loses $1\n",
    "# From the Casino's perspective if it hits red the casino loses $1, on the contrary if it hits black the casino wins $1\n",
    "ruleta = [\"red\"]*18 +[\"black\"]*18+[\"green\"]*2\n",
    "ruleta"
   ]
  },
  {
   "cell_type": "code",
   "execution_count": 25,
   "metadata": {},
   "outputs": [
    {
     "name": "stdout",
     "output_type": "stream",
     "text": [
      "Casino Winnings = 80\n"
     ]
    }
   ],
   "source": [
    "casinomoney = 0\n",
    "for y in range (1000):\n",
    "    result = random.choice(ruleta)\n",
    "    if result == \"red\":\n",
    "        casinomoney -= 1\n",
    "    else:\n",
    "        casinomoney += 1\n",
    "print(f\"Casino Winnings = {casinomoney}\")"
   ]
  },
  {
   "cell_type": "code",
   "execution_count": 30,
   "metadata": {},
   "outputs": [],
   "source": [
    "def RouletteSpin (spins = 1000, roulette = ruleta):\n",
    "    earnings = 0\n",
    "    for _ in range (spins):\n",
    "        result = random.choice(roulette)\n",
    "        if result == \"red\":\n",
    "            earnings -= 1\n",
    "        else:\n",
    "            earnings += 1\n",
    "    return earnings\n",
    "            "
   ]
  },
  {
   "cell_type": "code",
   "execution_count": 32,
   "metadata": {},
   "outputs": [
    {
     "data": {
      "text/plain": [
       "74"
      ]
     },
     "execution_count": 32,
     "metadata": {},
     "output_type": "execute_result"
    }
   ],
   "source": [
    "RouletteSpin()"
   ]
  },
  {
   "cell_type": "code",
   "execution_count": 44,
   "metadata": {},
   "outputs": [],
   "source": [
    "samplings = []\n",
    "for _ in range (100000):\n",
    "    samplings.append(RouletteSpin())"
   ]
  },
  {
   "cell_type": "code",
   "execution_count": 46,
   "metadata": {},
   "outputs": [
    {
     "data": {
      "text/plain": [
       "<function matplotlib.pyplot.show(close=None, block=None)>"
      ]
     },
     "execution_count": 46,
     "metadata": {},
     "output_type": "execute_result"
    },
    {
     "data": {
      "image/png": "[encoded data removed]",
      "text/plain": [
       "<Figure size 640x480 with 1 Axes>"
      ]
     },
     "metadata": {},
     "output_type": "display_data"
    }
   ],
   "source": [
    "# Plot Freuency Histogram\n",
    "plt.hist(samplings, bins=20)\n",
    "plt.grid(True)\n",
    "plt.show"
   ]
  },
  {
   "cell_type": "code",
   "execution_count": 49,
   "metadata": {},
   "outputs": [
    {
     "data": {
      "text/plain": [
       "np.float64(31.68001228158853)"
      ]
     },
     "execution_count": 49,
     "metadata": {},
     "output_type": "execute_result"
    }
   ],
   "source": [
    "#Standard Error\n",
    "std = np.std(samplings)\n",
    "std"
   ]
  },
  {
   "cell_type": "code",
   "execution_count": 51,
   "metadata": {},
   "outputs": [
    {
     "data": {
      "text/plain": [
       "100000"
      ]
     },
     "execution_count": 51,
     "metadata": {},
     "output_type": "execute_result"
    }
   ],
   "source": [
    "n = len(samplings)\n",
    "n"
   ]
  },
  {
   "cell_type": "code",
   "execution_count": 52,
   "metadata": {},
   "outputs": [
    {
     "data": {
      "text/plain": [
       "np.float64(0.1001809951119273)"
      ]
     },
     "execution_count": 52,
     "metadata": {},
     "output_type": "execute_result"
    }
   ],
   "source": [
    "# Standard error formula\n",
    "std/np.sqrt(n)"
   ]
  },
  {
   "cell_type": "code",
   "execution_count": 1,
   "metadata": {},
   "outputs": [],
   "source": [
    "# Bernoulli distribution: it's a discreet distribution of a random variable that takes the value of \"1\" with probability \"p\" and the value \"0\" with the probability of \"1 - p\".\n",
    "# A basic example is in a coil toss where \"p\" is .5 for the head s and .5 for tails (0)\n",
    "# A second example is obtain 5 or 6 is a dice throw, where getting it (1) has a the probability 1/6 + 1/6 = 2/6 and the probablility of failing (0) is 4/6. E[X] = 1/3 so VAR = 1/3 * (1-1/3=2/3) = (1/3)*(2/3)\n",
    "# The expected result is E[X] = \"p\" (the probability of winning) and the Variance VAR[X] is eual to \"p*(1-p)\"\n"
   ]
  },
  {
   "cell_type": "code",
   "execution_count": null,
   "metadata": {},
   "outputs": [],
   "source": [
    "# Binomial Dist = is a distribution of probability of the number of wins in a sequence of \"n\" birnoulli experiments where the probabilty \"p\"\n",
    "#Probabliliyy of getting 3 heads in 4 coin tosses , each toss of a coin is a Bernoulli even independent of the others\n",
    "#Binomial dist formula: P(X=k) = "
   ]
  },
  {
   "cell_type": "markdown",
   "metadata": {},
   "source": [
    "$ P(X=k) = {n\\choose k} p^k*(1-p)^{n-k}$"
   ]
  },
  {
   "cell_type": "markdown",
   "metadata": {},
   "source": [
    "${n\\choose k} = n!/(k! * n-k!) $\n",
    "$ n! = n * (n-1)*(n-2)... * 1$"
   ]
  },
  {
   "cell_type": "code",
   "execution_count": 2,
   "metadata": {},
   "outputs": [],
   "source": [
    "#the expected value of the binomial distribution E[X] = n*p and the variance is VAR[X] = n*p * (1-p)"
   ]
  },
  {
   "cell_type": "code",
   "execution_count": 11,
   "metadata": {},
   "outputs": [
    {
     "data": {
      "image/png": "[encoded data removed]",
      "text/plain": [
       "<Figure size 640x480 with 1 Axes>"
      ]
     },
     "metadata": {},
     "output_type": "display_data"
    }
   ],
   "source": [
    "#there is an event \"n\" that has a probability of getting 3 heads in a 4 coin tosses\n",
    "n, p = 4, 0.5\n",
    "rv = binom(n,p)\n",
    "fig,ax = plt.subplots(1,1)\n",
    "x = np.arange(binom.ppf(0.01, n, p),binom.ppf(0.99,n,p))\n",
    "ax.plot(x, binom.pmf(x,n,p),\"bo\",ms=8,label =\"function of probability masa\")\n",
    "ax.vlines(x,0,binom.pmf(x,n,p), colors=\"b\",lw=5, alpha=0.5)\n",
    "plt.show()"
   ]
  },
  {
   "cell_type": "code",
   "execution_count": null,
   "metadata": {},
   "outputs": [],
   "source": [
    "# Poisson Distribution - it is a distribution of a discreet probability that expressess that the probability of a given number of events occur in a fixed interval of time to lambda\n",
    "# It is the following forumula"
   ]
  },
  {
   "cell_type": "markdown",
   "metadata": {},
   "source": [
    "$$ P(X=k) =\\frac{ \\lambda^k * e^{-\\lambda}}{k!} $$"
   ]
  },
  {
   "cell_type": "code",
   "execution_count": null,
   "metadata": {},
   "outputs": [],
   "source": [
    "# The expected value of E[X] = Lambda and the Variance VAR[X] = lambda"
   ]
  },
  {
   "cell_type": "code",
   "execution_count": null,
   "metadata": {},
   "outputs": [],
   "source": [
    "# Normal distribution : is a distribution of continuous probablity for a random variable in continous space and is represented by \"mu\" and the deviation is \"sigma\"\n",
    "#the follow formula"
   ]
  },
  {
   "cell_type": "markdown",
   "metadata": {},
   "source": [
    "$$ P(X=\\mu\\sigma) = \\frac{1}{\\sqrt{2\\pi\\sigma^2}}*e^{\\frac{-(x-\\mu)^2}{2\\sigma^2}} $$"
   ]
  },
  {
   "cell_type": "code",
   "execution_count": 12,
   "metadata": {},
   "outputs": [],
   "source": [
    "# The expected value E[X] is \"mu\" and rhe Variance VAR[X] is \"sigma\" squared"
   ]
  }
 ],
 "metadata": {
  "kernelspec": {
   "display_name": ".venv",
   "language": "python",
   "name": "python3"
  },
  "language_info": {
   "codemirror_mode": {
    "name": "ipython",
    "version": 3
   },
   "file_extension": ".py",
   "mimetype": "text/x-python",
   "name": "python",
   "nbconvert_exporter": "python",
   "pygments_lexer": "ipython3",
   "version": "3.12.1"
  }
 },
 "nbformat": 4,
 "nbformat_minor": 2
}
