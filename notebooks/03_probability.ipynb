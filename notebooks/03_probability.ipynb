{
 "cells": [
  {
   "cell_type": "markdown",
   "metadata": {},
   "source": [
    "# Probability\n",
    "\n",
    "## Introduction to Probabilities\n",
    "In 1814, Pierre-Simon Laplace wrote:  \n",
    "> Probability theory is nothing but common sense reduced to calculation. \n",
    "... [Probability] is thus simply a fraction whose numerator is the \n",
    "number of favorable cases and whose denominator is the number of all \n",
    "the cases possible ... when nothing leads us to expect that any one of \n",
    "these cases should occur more than any other.\n",
    "\n",
    "Laplace nailed it. To untangle a probability problem, all you have to do \n",
    "is define exactly what the cases are, and careful count the favorable \n",
    "and total cases. Let's be clear on our vocabulary words:\n",
    "- **Trial**\n",
    "A single occurrence with an outcome that is uncertain until we observe it.  \n",
    "*For example, rolling a single die.*\n",
    "- **Outcome**\n",
    "A possible result of a trial; one particular state of the world. What \n",
    "Laplace calls a **case.** *For example:* `4`.\n",
    "- **Sample Space**\n",
    "The set of all possible outcomes for the trial.   \n",
    "*For example,* `{1, 2, 3, 4, 5, 6}`.\n",
    "- **Event**\n",
    "A subset of the sample space, a set of outcomes that together have some \n",
    "property we are interested in.  \n",
    "*For example, the event \"even die roll\" is the set of outcomes* \n",
    "`{2, 4, 6}`.\n",
    "- **Probability**\n",
    "As Laplace said, the probability of an event with respect to a sample \n",
    "space is the \"number of favorable cases\" (outcomes from the sample space \n",
    "that are in the event) divided by the \"number of all the cases\" in the \n",
    "sample space (assuming \"nothing leads us to expect that any one of these \n",
    "cases should occur more than any other\"). Since this is a proper \n",
    "fraction, probability will always be a number between 0 (representing an \n",
    "impossible event) and 1 (representing a certain event).  \n",
    "*For example, the probability of an even die roll is 3/6 = 1/2.*"
   ]
  },
  {
   "cell_type": "code",
   "execution_count": 155,
   "metadata": {},
   "outputs": [],
   "source": [
    "import random #Random Number Generator\n",
    "import numpy as np\n",
    "import pandas as pd\n",
    "import matplotlib.pyplot as plt"
   ]
  },
  {
   "cell_type": "code",
   "execution_count": 156,
   "metadata": {},
   "outputs": [
    {
     "name": "stdout",
     "output_type": "stream",
     "text": [
      "0\n"
     ]
    }
   ],
   "source": [
    "#1 Coin Flip Generator | Tails = 0 | Heads = 1\n",
    "toss = random.randint(0,1)\n",
    "print(toss)"
   ]
  },
  {
   "cell_type": "code",
   "execution_count": 157,
   "metadata": {},
   "outputs": [
    {
     "name": "stdout",
     "output_type": "stream",
     "text": [
      "[0, 0, 1, 0, 1, 0, 0, 0, 1, 0]\n"
     ]
    }
   ],
   "source": [
    "# Coin Flip Generator with a Control Structure (for, if, and while)\n",
    "toss_results = []\n",
    "for y  in range (10):\n",
    "    result = random.randint(0,1)\n",
    "    toss_results.append(result)\n",
    "print(toss_results)"
   ]
  },
  {
   "cell_type": "code",
   "execution_count": 158,
   "metadata": {},
   "outputs": [
    {
     "name": "stdout",
     "output_type": "stream",
     "text": [
      "[1, 0, 1, 0, 1, 1, 0, 1, 1, 1]\n"
     ]
    }
   ],
   "source": [
    "# Coin Flip Generator Controlled that can be reproduced\n",
    "random.seed(2024)\n",
    "toss_results = []\n",
    "for y in range (10):\n",
    "    result = random.randint(0,1)\n",
    "    toss_results.append(result)\n",
    "print(toss_results)"
   ]
  },
  {
   "cell_type": "code",
   "execution_count": 159,
   "metadata": {},
   "outputs": [
    {
     "data": {
      "text/plain": [
       "0.499507"
      ]
     },
     "execution_count": 159,
     "metadata": {},
     "output_type": "execute_result"
    }
   ],
   "source": [
    "# Calculate the probability that you will get heads in 10 coin tosses\n",
    "toss_results = []\n",
    "for y in range (1000000):\n",
    "    result = random.randint(0,1)\n",
    "    toss_results.append(result)\n",
    "#print(toss_results)\n",
    "sum(toss_results)/len(toss_results)"
   ]
  },
  {
   "cell_type": "code",
   "execution_count": 160,
   "metadata": {},
   "outputs": [],
   "source": [
    "from fractions import Fraction\n"
   ]
  },
  {
   "cell_type": "code",
   "execution_count": 161,
   "metadata": {},
   "outputs": [
    {
     "data": {
      "text/plain": [
       "Fraction(1, 3)"
      ]
     },
     "execution_count": 161,
     "metadata": {},
     "output_type": "execute_result"
    }
   ],
   "source": [
    "Fraction(1,3) #Representation of a fraction in python"
   ]
  },
  {
   "cell_type": "code",
   "execution_count": 162,
   "metadata": {},
   "outputs": [
    {
     "data": {
      "text/plain": [
       "{2, 4, 6}"
      ]
     },
     "execution_count": 162,
     "metadata": {},
     "output_type": "execute_result"
    }
   ],
   "source": [
    "# Calculate the Probability to toss an even number in a dice through\n",
    "even = {2,4,6}\n",
    "points = {1,2,3,4,5,6} # We assume that the dice are perfectly balanced\n",
    "set.intersection(even,points)\n"
   ]
  },
  {
   "cell_type": "code",
   "execution_count": 163,
   "metadata": {},
   "outputs": [],
   "source": [
    "def Pr(event,space):\n",
    "    return Fraction(len(set.intersection(event,space)),len(space))"
   ]
  },
  {
   "cell_type": "code",
   "execution_count": 164,
   "metadata": {},
   "outputs": [
    {
     "data": {
      "text/plain": [
       "Fraction(1, 2)"
      ]
     },
     "execution_count": 164,
     "metadata": {},
     "output_type": "execute_result"
    }
   ],
   "source": [
    "Pr(even,points)"
   ]
  },
  {
   "cell_type": "code",
   "execution_count": 165,
   "metadata": {},
   "outputs": [
    {
     "data": {
      "text/plain": [
       "Fraction(1, 3)"
      ]
     },
     "execution_count": 165,
     "metadata": {},
     "output_type": "execute_result"
    }
   ],
   "source": [
    "# Calculate the Probability of getting 5 or 6 from rolling a dice\n",
    "success = {5,6}\n",
    "points = {1,2,3,4,5,6}\n",
    "Pr(success,points)"
   ]
  },
  {
   "cell_type": "markdown",
   "metadata": {},
   "source": [
    "This refers to discrete sample space so the probability refers to a discrete event"
   ]
  },
  {
   "cell_type": "code",
   "execution_count": 166,
   "metadata": {},
   "outputs": [
    {
     "data": {
      "text/plain": [
       "array([0])"
      ]
     },
     "execution_count": 166,
     "metadata": {},
     "output_type": "execute_result"
    }
   ],
   "source": [
    "# box1 = (1,0,0,0) - 1/4\n",
    "# box2 = (1,1,0,0,0) - 2/5\n",
    "\n",
    "box1 = np.array([1,0,0,0]) # Vector - ([])\n",
    "np.random.choice(box1,1) #simulates the list of box 1, the second 1 is one event"
   ]
  },
  {
   "cell_type": "code",
   "execution_count": 167,
   "metadata": {},
   "outputs": [
    {
     "data": {
      "text/plain": [
       "np.float64(0.250068)"
      ]
     },
     "execution_count": 167,
     "metadata": {},
     "output_type": "execute_result"
    }
   ],
   "source": [
    "trial = np.random.choice(box1,1000000)\n",
    "trial.mean()"
   ]
  },
  {
   "cell_type": "code",
   "execution_count": 168,
   "metadata": {},
   "outputs": [
    {
     "data": {
      "text/plain": [
       "np.float64(0.400818)"
      ]
     },
     "execution_count": 168,
     "metadata": {},
     "output_type": "execute_result"
    }
   ],
   "source": [
    "box2 = np.array([1,0,1,0,0])\n",
    "trial = np.random.choice(box2,1000000)\n",
    "trial.mean() #here there are only 2 results 0 and 1 and the result of victory is 1"
   ]
  },
  {
   "cell_type": "code",
   "execution_count": 169,
   "metadata": {},
   "outputs": [
    {
     "data": {
      "text/plain": [
       "0.400818"
      ]
     },
     "execution_count": 169,
     "metadata": {},
     "output_type": "execute_result"
    }
   ],
   "source": [
    "#When there are more than 2 results\n",
    "success = np.isin(trial,[1])\n",
    "probability = len(trial[success])/len(trial)\n",
    "probability"
   ]
  },
  {
   "cell_type": "code",
   "execution_count": 181,
   "metadata": {},
   "outputs": [
    {
     "data": {
      "text/plain": [
       "0.3"
      ]
     },
     "execution_count": 181,
     "metadata": {},
     "output_type": "execute_result"
    }
   ],
   "source": [
    "yankenpo = np.array([1,2,3])\n",
    "trial = np.random.choice(yankenpo,10)\n",
    "success = np.isin(trial,[2]) #.isin returns boolean vectors\n",
    "probability = len(trial[success])/len(trial)\n",
    "probability"
   ]
  },
  {
   "cell_type": "code",
   "execution_count": 171,
   "metadata": {},
   "outputs": [
    {
     "data": {
      "text/plain": [
       "array([False, False, False, False, False, False,  True,  True, False,\n",
       "       False])"
      ]
     },
     "execution_count": 171,
     "metadata": {},
     "output_type": "execute_result"
    }
   ],
   "source": [
    "yankenpo\n",
    "trial\n",
    "success"
   ]
  },
  {
   "cell_type": "code",
   "execution_count": 172,
   "metadata": {},
   "outputs": [
    {
     "data": {
      "text/plain": [
       "array([1, 3, 1, 1, 1, 3, 2, 2, 1, 3])"
      ]
     },
     "execution_count": 172,
     "metadata": {},
     "output_type": "execute_result"
    }
   ],
   "source": [
    "trial"
   ]
  },
  {
   "cell_type": "code",
   "execution_count": 182,
   "metadata": {},
   "outputs": [
    {
     "data": {
      "text/plain": [
       "array([2, 2, 2])"
      ]
     },
     "execution_count": 182,
     "metadata": {},
     "output_type": "execute_result"
    }
   ],
   "source": [
    "trial[success]"
   ]
  },
  {
   "cell_type": "code",
   "execution_count": 183,
   "metadata": {},
   "outputs": [
    {
     "data": {
      "text/plain": [
       "array([21])"
      ]
     },
     "execution_count": 183,
     "metadata": {},
     "output_type": "execute_result"
    }
   ],
   "source": [
    "results = np.array ([14,22,21,15,18,23,19])\n",
    "success = np.isin(results,21)\n",
    "results[success]"
   ]
  },
  {
   "cell_type": "code",
   "execution_count": 199,
   "metadata": {},
   "outputs": [
    {
     "data": {
      "text/plain": [
       "0.1154"
      ]
     },
     "execution_count": 199,
     "metadata": {},
     "output_type": "execute_result"
    }
   ],
   "source": [
    "# The Following problem shows the the conditional probability\n",
    "# What is the probibility to pull an Ace in a second pull if the first card I already pulled an Ace\n",
    "# How many Aces are in a deck 4\n",
    "# How many cards in a deck? 52\n",
    "# What is the Probability of pulling an Ace on the first pull 4/52 -=> 1/13\n",
    "# If I already pulled an Ace from a deck how many cards are left? 51 and 3 Aces\n",
    "# In a second pull what is the probability of pulling an Ace? 3/51 Pr(pull ace in second pull|pull Ace in first pull)\n",
    "# This probability is is under the condition that the ace is pulled in the first pull\n",
    "# The formula for this is Pr=3/51\n",
    "# Pr(A and B)=Pr(A)*Pr(B|A)\n",
    "# If A and B are independent then the probability of Pr(A|B)=Pr(A)\n",
    "# Pr(A and B and C)=Pr(A)*Pr(B|A)*Pr(C|A and B) rule of chain?\n",
    "# Pr(A or B)=Pr(A)+Pr(B)-Pr(A and B)\n",
    "# In a plane there are 3 bombs, each bomb has 0.4 probability of exploding. So what is the probability of the second bomb exploding?\n",
    "# What is the probability that the 3 bombs explode at once? 0.4*0.4*.04\n",
    "# What is the probability that in a waiting room with 10 people, that 2 have the same birthday. and in a waiting room with 20 people, and in a waiting room with 30 people?\n",
    "def same_birthday(n):\n",
    "    days = np.arange(1,366)\n",
    "    bday = np.random.choice(days,n)\n",
    "    return np.any(np.bincount(bday)>1)\n",
    "\n",
    "same_birthday(10)\n",
    "counter = 0\n",
    "for i in range (10000):\n",
    "    if same_birthday(10):\n",
    "        counter += 1\n",
    "\n",
    "counter/10000"
   ]
  }
 ],
 "metadata": {
  "kernelspec": {
   "display_name": ".venv",
   "language": "python",
   "name": "python3"
  },
  "language_info": {
   "codemirror_mode": {
    "name": "ipython",
    "version": 3
   },
   "file_extension": ".py",
   "mimetype": "text/x-python",
   "name": "python",
   "nbconvert_exporter": "python",
   "pygments_lexer": "ipython3",
   "version": "3.12.1"
  }
 },
 "nbformat": 4,
 "nbformat_minor": 2
}
